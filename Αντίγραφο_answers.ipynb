{
  "cells": [
    {
      "cell_type": "markdown",
      "metadata": {
        "id": "view-in-github",
        "colab_type": "text"
      },
      "source": [
        "<a href=\"https://colab.research.google.com/github/AntonisZks/C-CPP-Data-Structures/blob/main/%CE%91%CE%BD%CF%84%CE%AF%CE%B3%CF%81%CE%B1%CF%86%CE%BF_answers.ipynb\" target=\"_parent\"><img src=\"https://colab.research.google.com/assets/colab-badge.svg\" alt=\"Open In Colab\"/></a>"
      ]
    },
    {
      "cell_type": "markdown",
      "id": "64b1544f-c21d-4a17-8d3a-a8132373d436",
      "metadata": {
        "id": "64b1544f-c21d-4a17-8d3a-a8132373d436"
      },
      "source": [
        "<h1><center>Αναγνώριση Προτύπων - Μηχανική Μάθηση (1η Εργασία)</center></h1>"
      ]
    },
    {
      "cell_type": "markdown",
      "id": "b2160e50-98c3-4f13-aa1e-4f3c5e351bc0",
      "metadata": {
        "id": "b2160e50-98c3-4f13-aa1e-4f3c5e351bc0"
      },
      "source": [
        "# Ερώτημα 1: Υπολογισμός Παραγώγων"
      ]
    },
    {
      "cell_type": "markdown",
      "id": "a0e42559-6f71-4be3-9365-f27a0bb4c831",
      "metadata": {
        "id": "a0e42559-6f71-4be3-9365-f27a0bb4c831"
      },
      "source": [
        "#### 1.1"
      ]
    },
    {
      "cell_type": "markdown",
      "id": "8a55d4af-2be9-4304-a08d-e40d92d5fdfd",
      "metadata": {
        "id": "8a55d4af-2be9-4304-a08d-e40d92d5fdfd"
      },
      "source": [
        "Ψάχνουμε να βρούμε την παράγωγο $\\nabla f$ της $f$ ως προς το διάνυσμα $x \\in \\mathbb{R}^d$ όπου $\\small f(x)=(x-a)^TA(x-a)$ και\n",
        "\n",
        "$$\n",
        "    \\nabla f(x) =\n",
        "    \\begin{bmatrix}\n",
        "        \\frac{\\partial f(x)}{\\partial x_1} \\\\\n",
        "        \\vdots                             \\\\\n",
        "        \\frac{\\partial f(x)}{\\partial x_d} \\\\\n",
        "    \\end{bmatrix}\n",
        "    \\Rightarrow\n",
        "    \\nabla f(x) =\n",
        "    \\begin{bmatrix}\n",
        "        \\frac{\\partial}{\\partial x_1}\\small(x_1-a)^TA(x_1-a) \\\\\n",
        "        \\vdots                                               \\\\\n",
        "        \\frac{\\partial}{\\partial x_d}\\small(x_d-a)^TA(x_d-a) \\\\\n",
        "    \\end{bmatrix}\n",
        "$$\n",
        "\n",
        "με $x,a \\in \\mathbb{R}^d$ και $A \\in \\mathbb{R}^{d \\times d}$ ένας συμμετρικός πίνακας ($\\small Α=Α^Τ$). Από το βιβλίο The Matrix Cookbook, συγκεκριμένα σελίδα 11, υπάρχει ο τύπος ($85$) ο οποίος λέει πως για έναν πίνακα $W \\in \\mathbb{R}^{n \\times n}$, ο οποίος είναι συμμετρικός ισχύει ότι\n",
        "\n",
        "$$\n",
        "    \\frac{\\partial}{\\partial x}(x-s)^TW(x-s) = 2W(x-s)\n",
        "$$\n",
        "\n",
        "όπου $x, s \\in \\mathbb{R}^n$. Στην προκειμένη περίπτωση ο πίνακας $A$ είναι συμμετρικός, οπότε η παραπάνω σχέση γίνεται\n",
        "\n",
        "$$\n",
        "    \\nabla f(x) =\n",
        "    \\begin{bmatrix}\n",
        "        \\frac{\\partial}{\\partial x_1}\\small(x_1-a)^TA(x_1-a) \\\\\n",
        "        \\vdots                                               \\\\\n",
        "        \\frac{\\partial}{\\partial x_d}\\small(x_d-a)^TA(x_d-a) \\\\\n",
        "    \\end{bmatrix}\n",
        "    \\Rightarrow\n",
        "    \\nabla f(x) =\n",
        "    \\begin{bmatrix}\n",
        "        2A(x_1-a) \\\\\n",
        "        \\vdots    \\\\\n",
        "        2A(x_d-a) \\\\\n",
        "    \\end{bmatrix}\n",
        "    \\Rightarrow\n",
        "    \\nabla f(x) = 2A(x-a)\n",
        "$$\n",
        "\n",
        "η οποία είναι και η τελική απάντηση στο ερώτημα."
      ]
    },
    {
      "cell_type": "markdown",
      "id": "306b41d6-7c93-4f7a-8c82-e01164a04f59",
      "metadata": {
        "id": "306b41d6-7c93-4f7a-8c82-e01164a04f59"
      },
      "source": [
        "#### 1.2"
      ]
    },
    {
      "cell_type": "markdown",
      "id": "c6d4bb28-bb39-4c20-b81d-a0a86828e7c5",
      "metadata": {
        "id": "c6d4bb28-bb39-4c20-b81d-a0a86828e7c5"
      },
      "source": [
        "Έχουμε να βρούμε το ολικό ελάχιστο στο παρακάτω πρόβλημα ελαχιστοποίησης\n",
        "\n",
        "$$\n",
        "    \\min_x ||A-XB||_F^2\n",
        "$$\n",
        "\n",
        "όπου $\\small A,X,B \\in \\mathbb{R}^{d \\times d}$ πίνακες με τάξη (rank) $d$. Αρχικά μπορούμε να ορίσουμε κατάλληλη συνάρτηση $f:\\mathbb{R}^{d \\times d} \\rightarrow \\mathbb{R}^{d \\times d}$ με\n",
        "\n",
        "$$\n",
        "    f(X) = ||A-XB||_F^2\n",
        "$$\n",
        "\n",
        "Επομένως έχουμε να βρούμε το $\\min_x f(X)$. Δηλαδή το ολικό ελάχιστο της συνάρτησης $f$. Η συνάρτηση $f$ παρουσιάζει ολικό ελάχιστο σε αυτά τα $x_{ij}$ του πίνακα $X$ για τα οποία η παράγωγός της μηδενίζεται. Επομένως αρκεί να λύσουμε την εξίσωση\n",
        "\n",
        "$$\n",
        "    \\frac{\\partial f(X)}{\\partial X} = 0 \\Rightarrow \\frac{\\partial}{\\partial X}||A-XB||_F^2 = 0\n",
        "$$\n",
        "\n",
        "Από το βιβλίο The Matrix Cookbook στη σελίδα 14, υπάρχει ο τύπος ($132$) ο οποίος λέει πως για έναν πίνακα $X$ ισχύει ότι\n",
        "\n",
        "$$\n",
        "    \\frac{\\partial}{\\partial X}||X||_F^2 = \\frac{\\partial}{\\partial X} \\mathrm{Tr}(XX^H) = 2X\n",
        "$$\n",
        "\n",
        "Οπότε η παράγωγος της $f$ είναι $\\frac{\\partial f}{\\partial X} = 2(A-XB)$ και άρα έχουμε να λύσουμε την εξίσωση\n",
        "\n",
        "$$\n",
        "    2(A-XB)=0 \\Rightarrow A-XB=0 \\Rightarrow XB=A\n",
        "$$\n",
        "\n",
        "Η παραπάνω εξίσωση έχει την εξής μορφή:\n",
        "\n",
        "$$\n",
        "    \\begin{bmatrix}\n",
        "        x_{11} & x_{12} & \\dots  & x_{1d} \\\\\n",
        "        x_{21} & x_{22} & \\dots  & x_{2d} \\\\\n",
        "        \\vdots & \\vdots & \\ddots & \\vdots \\\\\n",
        "        x_{d1} & x_{d2} & \\dots  & x_{dd} \\\\\n",
        "    \\end{bmatrix}\n",
        "    \\begin{bmatrix}\n",
        "        b_{11} & b_{12} & \\dots  & b_{1d} \\\\\n",
        "        b_{21} & b_{22} & \\dots  & b_{2d} \\\\\n",
        "        \\vdots & \\vdots & \\ddots & \\vdots \\\\\n",
        "        b_{d1} & b_{d2} & \\dots  & b_{dd} \\\\\n",
        "    \\end{bmatrix}\n",
        "    =\n",
        "    \\begin{bmatrix}\n",
        "        a_{11} & a_{12} & \\dots  & a_{1d} \\\\\n",
        "        a_{21} & a_{22} & \\dots  & a_{2d} \\\\\n",
        "        \\vdots & \\vdots & \\ddots & \\vdots \\\\\n",
        "        a_{d1} & a_{d2} & \\dots  & a_{dd} \\\\\n",
        "    \\end{bmatrix}\n",
        "$$\n",
        "\n",
        "στην οποία αν κάνουμε πολλαπλασιασμό πινάκων θα έχουμε ότι\n",
        "\n",
        "$$\n",
        "    \\begin{bmatrix}\n",
        "        x_{11}b_{11}+x_{12}b_{21}+\\dots+x_{1d}b_{d1} & \\dots  & x_{11}b_{1d}+x_{12}b_{2d}+\\dots+x_{1d}b_{dd} \\\\\n",
        "        x_{21}b_{11}+x_{22}b_{21}+\\dots+x_{2d}b_{d1} & \\dots  & x_{21}b_{1d}+x_{22}b_{2d}+\\dots+x_{2d}b_{dd} \\\\\n",
        "        \\vdots                                       & \\ddots & \\vdots                                       \\\\\n",
        "        x_{d1}b_{11}+x_{d2}b_{21}+\\dots+x_{dd}b_{d1} & \\dots  & x_{d1}b_{1d}+x_{d2}b_{2d}+\\dots+x_{dd}b_{dd} \\\\\n",
        "    \\end{bmatrix}\n",
        "    =\n",
        "    \\begin{bmatrix}\n",
        "        a_{11} & a_{12} & \\dots  & a_{1d} \\\\\n",
        "        a_{21} & a_{22} & \\dots  & a_{2d} \\\\\n",
        "        \\vdots & \\vdots & \\ddots & \\vdots \\\\\n",
        "        a_{d1} & a_{d2} & \\dots  & a_{dd} \\\\\n",
        "    \\end{bmatrix}\n",
        "$$\n",
        "$$\n",
        "    \\Rightarrow\n",
        "    \\begin{bmatrix}\n",
        "          & \\sum_{i=0}^d x_{1i}b_{i1} & \\sum_{i=0}^d x_{1i}b_{i2} & \\dots  & \\sum_{i=0}^d x_{1i}b_{id} \\\\\n",
        "          & \\sum_{i=0}^d x_{2i}b_{i1} & \\sum_{i=0}^d x_{2i}b_{i2} & \\dots  & \\sum_{i=0}^d x_{2i}b_{id} \\\\\n",
        "          & \\vdots                    & \\vdots                    & \\ddots & \\vdots                    \\\\\n",
        "          & \\sum_{i=0}^d x_{di}b_{i1} & \\sum_{i=0}^d x_{di}b_{i2} & \\dots  & \\sum_{i=0}^d x_{di}b_{id} \\\\\n",
        "    \\end{bmatrix}\n",
        "    =\n",
        "    \\begin{bmatrix}\n",
        "        a_{11} & a_{12} & \\dots  & a_{1d} \\\\\n",
        "        a_{21} & a_{22} & \\dots  & a_{2d} \\\\\n",
        "        \\vdots & \\vdots & \\ddots & \\vdots \\\\\n",
        "        a_{d1} & a_{d2} & \\dots  & a_{dd} \\\\\n",
        "    \\end{bmatrix}\n",
        "$$\n",
        "\n",
        "Στη παραπάνω σχέση οι 2 πίνακες έχουν ίδιες διστάσεις $d \\times d$. Οπότε για να είναι ίσοι πρέπει κάθε στοιχείο του ενός να είναι ίσο με το αντίστοιχο στοιχείο του άλλου. Πρέπει δηλαδή να ισχύει κάθε μία από τις παρακάτω σχέσεις\n",
        "\n",
        "$$\n",
        "    \\begin{matrix}\n",
        "        \\sum_{i=0}^d x_{1i}b_{i1} = a_{11} & \\sum_{i=0}^d x_{1i}b_{i2} = a_{12} & \\dots  & \\sum_{i=0}^d x_{1i}b_{id} = a_{1d} \\\\\n",
        "        \\sum_{i=0}^d x_{2i}b_{i1} = a_{21} & \\sum_{i=0}^d x_{2i}b_{i2} = a_{22} & \\dots  & \\sum_{i=0}^d x_{2i}b_{id} = a_{2d} \\\\\n",
        "        \\vdots                             & \\vdots                             & \\ddots & \\vdots \\\\\n",
        "        \\sum_{i=0}^d x_{di}b_{i1} = a_{d1} & \\sum_{i=0}^d x_{di}b_{i2} = a_{d2} & \\dots  & \\sum_{i=0}^d x_{di}b_{id} = a_{dd} \\\\\n",
        "    \\end{matrix}\n",
        "$$\n",
        "\n",
        "τις οποίες μπορούμε να τις περιγράψουμε με τη σχέση\n",
        "\n",
        "$$\n",
        "    \\sum_{ijk}^d x_{ji}b_{ik} = a_{jk}, i,j,k \\in \\{1,2,\\dots,d\\}\n",
        "$$"
      ]
    },
    {
      "cell_type": "markdown",
      "id": "8d8f199b",
      "metadata": {
        "id": "8d8f199b"
      },
      "source": [
        "# Ερώτημα 2: Gradient Descent"
      ]
    },
    {
      "cell_type": "code",
      "execution_count": 154,
      "id": "e35fa50c",
      "metadata": {
        "id": "e35fa50c"
      },
      "outputs": [],
      "source": [
        "import numpy as np\n",
        "import matplotlib.pyplot as plt"
      ]
    },
    {
      "cell_type": "markdown",
      "id": "752f9376",
      "metadata": {
        "id": "752f9376"
      },
      "source": [
        "## Ορισμός συναρτήσεων στην Python"
      ]
    },
    {
      "cell_type": "markdown",
      "id": "32ac498d",
      "metadata": {
        "id": "32ac498d"
      },
      "source": [
        "### Πρώτο σύνολο δεδομένων"
      ]
    },
    {
      "cell_type": "markdown",
      "id": "7b53b9dd",
      "metadata": {
        "id": "7b53b9dd"
      },
      "source": [
        "Για το πρώτο σύνολο δεδομένων έχουμε τη κλάση (χώρο υποθέσεων) $f_1$ με\n",
        "$$\n",
        "    f_1(x;w) = (1+e^{-(w_0 + w_1x)})^{-1},\\ w \\in \\mathbb{R}^2\n",
        "$$\n",
        "\n",
        "και τη συνάρτηση κόστους $L_1$, που δίνεται από τον τύπο\n",
        "\n",
        "$$\n",
        "    L_1(w) = -\\frac{1}{n} \\sum_{i=1}^{n} \\big(y_i\\log_2 f_1(x_i;w) + (1-y_i)\\log_2(1-f_1(x_i;w)))\n",
        "$$\n",
        "\n",
        "Ας ορίσουμε αυτές τις συναρτήσεις στην Python\n"
      ]
    },
    {
      "cell_type": "code",
      "execution_count": 155,
      "id": "b90eeecb",
      "metadata": {
        "id": "b90eeecb"
      },
      "outputs": [],
      "source": [
        "def f1(xi: float, w: list[float, float]) -> float:\n",
        "    \"\"\" Κλάση Συνόλου Δεδομένων 1 (Χώρος Υποθέσεων) \"\"\"\n",
        "\n",
        "    return (1 + np.e**(-(w[0] + w[1]*xi)))**(-1)\n",
        "\n",
        "def L1(x: tuple[float], y: tuple[float], w: tuple[float, float]) -> float:\n",
        "    \"\"\" Συνάστηρη Κόστους Συνόλου Δεδομένων 1 (Cost Function) \"\"\"\n",
        "\n",
        "    n = len(x)\n",
        "    sum = 0.0\n",
        "    for i in range(n):\n",
        "        sum += (y[i] * np.log2(f1(x[i], w)) + (1 - y[i]) * np.log2(1 - f1(x[i], w)))\n",
        "\n",
        "    return abs((-1/n) * sum)"
      ]
    },
    {
      "cell_type": "markdown",
      "id": "43772f7a",
      "metadata": {
        "id": "43772f7a"
      },
      "source": [
        "### Δεύτερο σύνολο δεδομένων"
      ]
    },
    {
      "cell_type": "markdown",
      "id": "ad9a8216",
      "metadata": {
        "id": "ad9a8216"
      },
      "source": [
        "Για το δεύτερο σύνολο δεδομένων έχουμε τη κλάση (χώρο υποθέσεων) $f_2$ με\n",
        "\n",
        "$$\n",
        "    f_2(x;w) = w_0 + w_1\\sigma(w_2 + w_3x),\\ w \\in \\mathbb{R}^4\n",
        "$$\n",
        "\n",
        "και τη συνάρτηση κόστους $L_2$, που με τύπο\n",
        "\n",
        "$$\n",
        "    L_2(w) = \\frac{1}{n}\\sum_{i=1}^{n}\\big(y_i - f_2(x_i;w)\\big)^2\n",
        "$$\n",
        "\n",
        "Ας τις ορίσουμε και αυτές με τη σειρά τους"
      ]
    },
    {
      "cell_type": "code",
      "execution_count": 156,
      "id": "a7fc79c1",
      "metadata": {
        "id": "a7fc79c1"
      },
      "outputs": [],
      "source": [
        "def sigma(x):\n",
        "    \"\"\" sigma function \"\"\"\n",
        "\n",
        "    result = x if x > 0 else 0\n",
        "    return result\n",
        "\n",
        "def f2(xi, w):\n",
        "    \"\"\" Κλάση Συνόλου Δεδομένων 2 (Χώρος Υποθέσεων) \"\"\"\n",
        "\n",
        "    return w[0] + w[1] * sigma(w[2] + w[3]*xi)\n",
        "\n",
        "def L2(x, y, w):\n",
        "    \"\"\" Συνάστηρη Κόστους Συνόλου Δεδομένων 2 (Cost Function) \"\"\"\n",
        "\n",
        "    n = len(x)\n",
        "    sum = 0.0\n",
        "    for i in range(n):\n",
        "        sum += (y[i] - f2(x[i], w)**2)\n",
        "\n",
        "    return abs((1/n) * sum)"
      ]
    },
    {
      "cell_type": "markdown",
      "id": "a8088a25",
      "metadata": {
        "id": "a8088a25"
      },
      "source": [
        "Προκειμένου να εκτελέσουμε τον αλγόριθμο Gradient Descent για τα συγκεκριμένα σύνολα δεδομένων, χρειαζόμαστε τις παραγώγους αυτών των συναρτήσεων, δηλαδή τις $\\nabla f_1$ και $\\nabla L_1$, καθώς και τις $\\nabla f_2$ και $\\nabla L_2$."
      ]
    },
    {
      "cell_type": "markdown",
      "id": "526f9bc9",
      "metadata": {
        "id": "526f9bc9"
      },
      "source": [
        "## Υπολογισμός της παραγώγου $\\nabla f_1$"
      ]
    },
    {
      "cell_type": "markdown",
      "id": "b6bcdf74",
      "metadata": {
        "id": "b6bcdf74"
      },
      "source": [
        "Αρχικά θα υπολογίσουμε την $\\nabla f_1$, για την οποία ισχύει ότι\n",
        "\n",
        "$$\n",
        "    \\nabla f_1 = \\frac{\\partial f_1}{\\partial w} = \\left(\\frac{\\partial f_1}{\\partial w_0}, \\frac{\\partial f_1}{\\partial w_1}\\right)\n",
        "$$\n",
        "\n",
        "Έχουμε λοιπόν να υπολογίσουμε τις μερικές παραγώγους της συνάρτησης $f_1$ ως εξής:\n",
        "\n",
        "$$\n",
        "    \\frac{\\partial f_1}{\\partial w_0} = \\frac{\\partial}{\\partial w_0}\\left(1+e^{-(w_0+w_1x)}\\right)^{-1} = -\\left(1+e^{-(w_0+w_1x)}\\right)^{-2}\\frac{\\partial}{\\partial w_0}\\left(1+e^{-(w_0+w_1x)}\\right)\\Rightarrow\n",
        "$$\n",
        "$$\n",
        "    \\frac{\\partial f_1}{\\partial w_0} = -\\left(1+e^{-(w_0+w_1x)}\\right)^{-2}\\frac{\\partial}{\\partial w_0}e^{-w_0-w_1x} = -\\left(1+e^{-(w_0+w_1x)}\\right)^{-2}(e^{-w_0-w_1x})(-1) \\Rightarrow\n",
        "$$\n",
        "$$\n",
        "    \\boxed{{\\frac{\\partial f_1}{\\partial w_0} = \\left(1+e^{-w_0-w_1x}\\right)^{-2}(e^{-w_0-w_1x})}}\n",
        "$$\n",
        "\n",
        "και\n",
        "\n",
        "$$\n",
        "    \\frac{\\partial f_1}{\\partial w_1} = \\frac{\\partial}{\\partial w_1}\\left(1+e^{-(w_0+w_1x)}\\right)^{-1} = -\\left(1+e^{-(w_0+w_1x)}\\right)^{-2}\\frac{\\partial}{\\partial w_1}\\left(1+e^{-(w_0+w_1x)}\\right)\\Rightarrow\n",
        "$$\n",
        "$$\n",
        "    \\frac{\\partial f_1}{\\partial w_1} = -\\left(1+e^{-(w_0+w_1x)}\\right)^{-2}\\frac{\\partial}{\\partial w_1}e^{-w_0-w_1x} = -\\left(1+e^{-(w_0+w_1x)}\\right)^{-2}(e^{-w_0-w_1x})(-x) \\Rightarrow\n",
        "$$\n",
        "$$\n",
        "     \\boxed{\\frac{\\partial f_1}{\\partial w_1} = \\left(1+e^{-w_0-w_1x}\\right)^{-2}(xe^{-w_0-w_1x})}\n",
        "$$\n",
        "\n",
        "Επομένως έχουμε ότι\n",
        "\n",
        "$$\n",
        "     \\nabla f_1 = \\left(\\frac{\\partial f_1}{\\partial w_0}, \\frac{\\partial f_1}{\\partial w_1}\\right) = \\left(\\left(1+e^{-w_0-w_1x}\\right)^{-2}(e^{-w_0-w_1x}), \\left(1+e^{-w_0-w_1x}\\right)^{-2}(xe^{-w_0-w_1x})\\right)\n",
        "$$\n"
      ]
    },
    {
      "cell_type": "markdown",
      "id": "mkmQF1VxfIk0",
      "metadata": {
        "id": "mkmQF1VxfIk0"
      },
      "source": [
        "### Ορισμός στην Python"
      ]
    },
    {
      "cell_type": "markdown",
      "id": "zlOQxuBhfMeb",
      "metadata": {
        "id": "zlOQxuBhfMeb"
      },
      "source": [
        "Έχοντας βρει την $\\nabla f_1$, μπορούμε να την κατασκευάσουμε σε Python"
      ]
    },
    {
      "cell_type": "code",
      "execution_count": 157,
      "id": "YLVHr_OxbmM9",
      "metadata": {
        "id": "YLVHr_OxbmM9"
      },
      "outputs": [],
      "source": [
        "def f1_partial_derivative(xi, w):\n",
        "    \"\"\" Partial Derivative of f1 \"\"\"\n",
        "\n",
        "    partial_w0 = ((1 + np.e**(-w[0] - w[1]*xi))**(-2)) *   (np.e**(-w[0] - w[1]*xi))\n",
        "    partial_w1 = ((1 + np.e**(-w[0] - w[1]*xi))**(-2)) * (x*np.e**(-w[0] - w[1]*xi))\n",
        "\n",
        "    return partial_w0, partial_w1"
      ]
    },
    {
      "cell_type": "markdown",
      "id": "59214e99",
      "metadata": {
        "id": "59214e99"
      },
      "source": [
        "## Υπολογισμός της παραγώγου $\\nabla L_1$"
      ]
    },
    {
      "cell_type": "markdown",
      "id": "8489823e",
      "metadata": {
        "id": "8489823e"
      },
      "source": [
        "Στη συνέχεια θα υπολογίσουμε την $\\nabla L_1$, για την οποία ισχύει ότι\n",
        "$$\n",
        "    \\nabla L_1 = \\frac{\\partial L_1}{\\partial w} = \\left(\\frac{\\partial L_1}{\\partial w_0}, \\frac{\\partial L_1}{\\partial w_1}\\right)\n",
        "$$"
      ]
    },
    {
      "cell_type": "markdown",
      "id": "EUHSqW-WgvSd",
      "metadata": {
        "id": "EUHSqW-WgvSd"
      },
      "source": [
        "#### Διάσπαση της $L_1$ σε $g_i$ και $h_i$"
      ]
    },
    {
      "cell_type": "markdown",
      "id": "e202d97d",
      "metadata": {
        "id": "e202d97d"
      },
      "source": [
        "Από τη συνάρτηση κόστους $L_1$, θεωρούμε συναρτήσεις $g_i$ και $h_i$ όπου\n",
        "\n",
        "$$\n",
        "    g_i(w) = y_i \\log_2 f_1(x_i;w),\\ i \\in \\{1,2, \\dots, n\\}\n",
        "$$\n",
        "\n",
        "και\n",
        "\n",
        "$$\n",
        "    h_i(w) = (1-y_i) \\log_2 (1 - f_1(x_i;w)),\\ i \\in \\{1, 2, \\dots, n\\}\n",
        "$$\n",
        "\n",
        "Έτσι η συνάρτηση κόστους γίνεται\n",
        "\n",
        "$$\n",
        "    L_1(w) = -\\frac{1}{n} \\sum_{i=1}^{n} g_i(w) + h_i(w) \\Rightarrow L_1(w) = -\\frac{1}{n} \\big( g_1(w) + h_1(w) + \\dots + g_n(w) + h_n(w) \\big)\n",
        "$$\n",
        "$$\n",
        "$$"
      ]
    },
    {
      "cell_type": "markdown",
      "id": "0fa1347c",
      "metadata": {
        "id": "0fa1347c"
      },
      "source": [
        "Επομένως η παράγωγος της συνάρτησης κόστους $L_1(w)$ θα είναι\n",
        "\n",
        "$$\n",
        "    \\frac{\\partial L_1}{\\partial w} = \\frac{\\partial}{\\partial w}\\left( -\\frac{1}{n}\\big(g_1(w)+h_1(w)+\\dots+g_n(w)+h_n(w)\\big) \\right) \\Rightarrow\n",
        "$$\n",
        "$$\n",
        "    \\frac{\\partial L_1}{\\partial w} = -\\frac{1}{n}\\left(\\frac{\\partial}{\\partial w}g_1(w) + \\frac{\\partial}{\\partial w}h_1(w)+\\dots+\\frac{\\partial}{\\partial w}g_n(w)+\\frac{\\partial}{\\partial w}h_n(w)\\right) \\Rightarrow\n",
        "$$\n",
        "$$\n",
        "     \\boxed{\\frac{\\partial L_1}{\\partial w} = -\\frac{1}{n}\\sum_{i=1}^{n}\\left(\\frac{\\partial g_i(w)}{\\partial w} + \\frac{\\partial h_i(w)}{\\partial w}\\right)}\n",
        "$$\n",
        "\n",
        "Επομένως αρκεί να βρούμε τις παραγώγους $\\nabla g_i = \\frac{\\partial g_i}{\\partial w}$ και $\\nabla h_i = \\frac{\\partial h_i}{\\partial w}$ για $i\\in\\{1,2,\\dots,n\\}$."
      ]
    },
    {
      "cell_type": "markdown",
      "id": "y8usPrP2g_UA",
      "metadata": {
        "id": "y8usPrP2g_UA"
      },
      "source": [
        "#### Υπολογισμός της $\\nabla g_i(w)$"
      ]
    },
    {
      "cell_type": "markdown",
      "id": "oLqEPbeaEjPf",
      "metadata": {
        "id": "oLqEPbeaEjPf"
      },
      "source": [
        "* Για την παράγωγο $\\nabla g_i(w)$ ισχύει ότι\n",
        "\n",
        "$$\n",
        "    \\nabla g_i = \\frac{\\partial g_i(w)}{\\partial w} = \\left(\\frac{\\partial g_i}{\\partial w_0}, \\frac{\\partial g_i}{\\partial w_1}\\right)\n",
        "$$\n",
        "\n",
        "Επομένως έχουμε να υπολογίσουμε τις μερικές παραγώγους της συνάρτησης $g_i(w)$ ως εξής:\n",
        "\n",
        "$$\n",
        "    \\frac{\\partial}{\\partial w_0}g_i(w) = \\frac{\\partial}{\\partial w_0}\\big( y_i \\log_2 f_1(x_i;w) \\big) = y_i\\frac{\\partial}{\\partial w_0}\\log_2 f_1(x_i;w) = y_i\\frac{1}{f_1(x_i;w)\\ln(2)}\\frac{\\partial}{\\partial w}f_1(x_i;w) \\Rightarrow\n",
        "$$\n",
        "$$\n",
        "    \\frac{\\partial}{\\partial w_0}g_i(w) = \\frac{y_i}{f_1(x_i;w)\\ln(2)}(1+e^{-w_0-w_1x_i})^{-2} (e^{-w_0-w_1x_i}) = \\frac{y_i(1+e^{-w_0-w_1x_i})^{-2} (e^{-w_0-w_1x_i})}{(1+e^{-w_0-w_1x_i})^{-1}\\ln(2)} \\Rightarrow\n",
        "$$\n",
        "$$\n",
        "    \\frac{\\partial}{\\partial w_0}g_i(w) = \\frac{y_i e^{-w_0-w_1x_i}(1+e^{-w_0-w_1x_i})^{-1}}{\\ln(2)} = \\frac{y_i e^{-w_0-w_1x_i}f_1(x_i;w)}{\\ln(2)}\n",
        "$$\n",
        "\n",
        "και\n",
        "\n",
        "$$\n",
        "    \\frac{\\partial}{\\partial w_1}g_i(w) = \\frac{\\partial}{\\partial w_1}\\big( y_i \\log_2 f_1(x_i;w) \\big) = y_i\\frac{\\partial}{\\partial w_1}\\log_2 f_1(x_i;w) = y_i\\frac{1}{f_1(x_i;w)\\ln(2)}\\frac{\\partial}{\\partial w}f_1(x_i;w) \\Rightarrow\n",
        "$$\n",
        "$$\n",
        "    \\frac{\\partial}{\\partial w_1}g_i(w) = \\frac{y_i}{f_1(x_i;w)\\ln(2)}(1+e^{-w_0-w_1x_i})^{-2} (x_ie^{-w_0-w_1x_i}) = \\frac{y_i(1+e^{-w_0-w_1x_i})^{-2} (x_ie^{-w_0-w_1x_i})}{(1+e^{-w_0-w_1x_i})^{-1}\\ln(2)} \\Rightarrow\n",
        "$$\n",
        "$$\n",
        "    \\frac{\\partial}{\\partial w_0}g_i(w) = \\frac{y_i xe^{-w_0-w_1x_i}(1+e^{-w_0-w_1x_i})^{-1}}{\\ln(2)} = \\frac{y_i x_ie^{-w_0-w_1x_i}f_1(x_i;w)}{\\ln(2)}\n",
        "$$\n",
        "\n",
        "Επομένως η παράγωγος της $g_i(w)$ είναι η\n",
        "\n",
        "$$\n",
        "     \\boxed{\\nabla g_i(w) = \\left(\\frac{\\partial g_i}{\\partial w_0}, \\frac{\\partial g_i}{\\partial w_1}\\right) = \\left( \\frac{y_ie^{-w_0-w_1x_i}}{\\ln(2)}f_1(x_i;w), \\frac{y_ix_ie^{-w_0-w_1x_i}}{\\ln(2)}f_1(x_i;w) \\right),\\ i\\in\\{1,2,\\dots,n\\}}\n",
        "$$"
      ]
    },
    {
      "cell_type": "markdown",
      "id": "nmysnWWHhJqV",
      "metadata": {
        "id": "nmysnWWHhJqV"
      },
      "source": [
        "#### Υπολογισμός της $\\nabla h_i(w)$"
      ]
    },
    {
      "cell_type": "markdown",
      "id": "efbf4288",
      "metadata": {
        "id": "efbf4288"
      },
      "source": [
        "* Για την παράγωγο $\\nabla h_i(w)$ ισχύει ότι\n",
        "\n",
        "$$\n",
        "    \\nabla h_i = \\frac{\\partial h_i(w)}{\\partial w} = \\left( \\frac{\\partial h_i}{\\partial w_0}, \\frac{\\partial h_i}{\\partial w_1} \\right)\n",
        "$$\n",
        "\n",
        "Επομένως έχουμε να υπολογίσουμε τις μερικές παραγώγους της συνάρτησης $h_i(w)$ ως εξής:\n",
        "\n",
        "$$\n",
        "    \\frac{\\partial}{\\partial w_0}h_i(w) = \\frac{\\partial}{\\partial w_0}(1-y_i)\\log_2\\big(1-f_1(x_i;w)\\big) = (1-y_i)\\frac{\\partial}{\\partial w_0}\\log_2\\big(1-f_1(x_i;w)\\big) \\Rightarrow\n",
        "$$\n",
        "$$\n",
        "    \\frac{\\partial}{\\partial w_0}h_i(w) = (1-y_i)\\frac{1}{\\big(1-f_1(x_i;w)\\big)\\ln(2)}\\frac{\\partial}{\\partial w_0}\\big(1-f_1(x_i;w)\\big) = \\frac{y_i-1}{\\ln(2)-\\ln(2)f_1(x_i;w)}\\frac{\\partial}{\\partial w_0}f_1(x_i;w) \\Rightarrow\n",
        "$$\n",
        "$$\n",
        "    \\frac{\\partial}{\\partial w_0}h_i(w) = \\frac{y_i-1}{\\ln(2)-\\ln(2)f_1(x_i;w)}\\left(-(1+e^{-w_0-w_1x_i})^{-2}(-e^{-w_0-w_1x_i})\\right) = \\frac{(y_i-1)(1+e^{-w_0-w_1x_i})^{-2}(e^{-w_0-w_1x_i})}{\\ln(2)-\\ln(2)(1+e^{-w_0-w_1x_i})^{-1}} \\Rightarrow\n",
        "$$\n",
        "\n",
        "και\n",
        "\n",
        "$$\n",
        "    \\frac{\\partial}{\\partial w_1}h_i(w) = \\frac{\\partial}{\\partial w_1}(1-y_i)\\log_2\\big(1-f_1(x_i;w)\\big) = (1-y_i)\\frac{\\partial}{\\partial w_1}\\log_2\\big(1-f_1(x_i;w)\\big) \\Rightarrow\n",
        "$$\n",
        "$$\n",
        "    \\frac{\\partial}{\\partial w_1}h_i(w) = (1-y_i)\\frac{1}{\\big(1-f_1(x_i;w)\\big)\\ln(2)}\\frac{\\partial}{\\partial w_1}\\big(1-f_1(x_i;w)\\big) = \\frac{y_i-1}{\\ln(2)-\\ln(2)f_1(x_i;w)}\\frac{\\partial}{\\partial w_1}f_1(x_i;w) \\Rightarrow\n",
        "$$\n",
        "$$\n",
        "    \\frac{\\partial}{\\partial w_1}h_i(w) = \\frac{y_i-1}{\\ln(2)-\\ln(2)f_1(x_i;w)}\\left(-(1+e^{-w_0-w_1x_i})^{-2}(-x_ie^{-w_0-w_1x_i})\\right) = \\frac{(y_i-1)(1+e^{-w_0-w_1x_i})^{-2}(x_ie^{-w_0-w_1x_i})}{\\ln(2)-\\ln(2)(1+e^{-w_0-w_1x_i})^{-1}} \\Rightarrow\n",
        "$$\n",
        "\n",
        "Επομένως η παράγωγος της συνάρτησης $h_i(w)$ είναι η\n",
        "\n",
        "$$\n",
        "    \\small\\boxed{\\nabla h_i(w) = \\left(\\frac{\\partial h_i}{\\partial w_0}, \\frac{\\partial h_i}{\\partial w_1}\\right) = \\left(\\frac{(y_i-1)(1+e^{-w_0-w_1x_i})^{-2}(e^{-w_0-w_1x_i})}{\\ln(2)-\\ln(2)(1+e^{-w_0-w_1x_i})^{-1}}, \\frac{(y_i-1)(1+e^{-w_0-w_1x_i})^{-2}(x_ie^{-w_0-w_1x_i})}{\\ln(2)-\\ln(2)(1+e^{-w_0-w_1x_i})^{-1}}\\right),\\ i\\in\\{1,2,\\dots,n\\}}\n",
        "$$"
      ]
    },
    {
      "cell_type": "markdown",
      "id": "AU5XKlo2hTSx",
      "metadata": {
        "id": "AU5XKlo2hTSx"
      },
      "source": [
        "#### Συγχώνευση των λύσεων για την εύρεση της $\\nabla L_1(w)$"
      ]
    },
    {
      "cell_type": "markdown",
      "id": "kKLy9ckZCfjM",
      "metadata": {
        "id": "kKLy9ckZCfjM"
      },
      "source": [
        "Επομένως η αρχική σχέση της παραγώγου $\\nabla L_1(w)$ γίνεται\n",
        "\n",
        "$$\n",
        "    \\small\\nabla L_1(w) = \\frac{\\partial L_1(w)}{\\partial w} = \\left(\\frac{\\partial L_1}{\\partial w_0}, \\frac{\\partial L_1}{\\partial w_1}\\right) = -\\frac{1}{n}\\sum_{i=1}^n\\big(\\nabla g_i(w) + \\nabla h_i(w)\\big) = -\\frac{1}{n}\\sum_{i=1}^n\\left(\\frac{\\partial g_i}{\\partial w_0}, \\frac{\\partial g_i}{\\partial w_1}\\right) + \\left(\\frac{\\partial h_i}{\\partial w_0}, \\frac{\\partial h_i}{\\partial w_1}\\right),\\ i\\in\\{1,2,\\dots,n\\}\n",
        "$$\n",
        "\n",
        "Δηλαδή έχουμε τις σχέσεις\n",
        "\n",
        "\\begin{matrix}\n",
        "    \\boxed{\\frac{\\partial L_1}{\\partial w_0} = -\\frac{1}{n}\\sum_{i=1}^{n}\\frac{\\partial g_i}{\\partial w_0} + \\frac{\\partial h_i}{\\partial w_0},\\ i\\in\\{1,2,\\dots,n\\}} & & & & & \\boxed{\\frac{\\partial L_1}{\\partial w_1} = -\\frac{1}{n}\\sum_{i=1}^{n}\\frac{\\partial g_i}{\\partial w_1} + \\frac{\\partial h_i}{\\partial w_1},\\ i\\in\\{1,2,\\dots,n\\}}\n",
        "\\end{matrix}"
      ]
    },
    {
      "cell_type": "markdown",
      "id": "paaSO4RliQf_",
      "metadata": {
        "id": "paaSO4RliQf_"
      },
      "source": [
        "#### Ορισμός της $\\nabla L_1$ στην Python"
      ]
    },
    {
      "cell_type": "markdown",
      "id": "XPnpS-gxa9Kl",
      "metadata": {
        "id": "XPnpS-gxa9Kl"
      },
      "source": [
        "Έχοντας βρει την παράγωγο $\\nabla L_1$, μπορούμε να την κατασκευάσουμε σε Python. Αρχικά θα ορίσουμε κατάλληλες συναρτήσεις για τις μερικές παραγώγους της $\\nabla g_i(w)$. Υπενθυμίζουμε ότι\n",
        "\n",
        "\\begin{matrix}\n",
        "    \\boxed{\\frac{\\partial}{\\partial w_0}g_i(w) = \\frac{y_ie^{-w_0-w_1x_i}}{\\ln(2)}f_1(x_i;w)} & & & & & & \\boxed{\\frac{\\partial}{\\partial w_1}g_i(w) = \\frac{y_ix_ie^{-w_0-w_1x_i}}{\\ln(2)}f_1(x_i;w)}\n",
        "\\end{matrix}"
      ]
    },
    {
      "cell_type": "code",
      "execution_count": 158,
      "id": "Wz1RvbTkiPK9",
      "metadata": {
        "id": "Wz1RvbTkiPK9"
      },
      "outputs": [],
      "source": [
        "def gi_partial_derivative_w0(xi, yi, w):\n",
        "    \"\"\" Partial Derivative of function gi() with respect to w0 \"\"\"\n",
        "\n",
        "    return ((yi*np.e**(-w[0] - w[1]*xi)) / (np.log(2))) * f1(xi, w)\n",
        "\n",
        "def gi_partial_derivative_w1(xi, yi, w):\n",
        "    \"\"\" Partial Derivative of function gi() with respect to w1 \"\"\"\n",
        "\n",
        "    return ((yi*xi*np.e**(-w[0] - w[1]*xi)) / (np.log(2))) * f1(xi, w)"
      ]
    },
    {
      "cell_type": "markdown",
      "id": "3yW4Zdp_q03Q",
      "metadata": {
        "id": "3yW4Zdp_q03Q"
      },
      "source": [
        "Στη συνέχεια θα ορίσουμε τις μερικές παραγώγους της $\\nabla h_i(w)$ όπου\n",
        "\n",
        "\\begin{matrix}\n",
        "    \\boxed{\\frac{\\partial}{\\partial w_0}h_i(w) = \\frac{(y_i-1)(1+e^{-w_0-w_1x_i})^{-2}(e^{-w_0-w_1x_i})}{\\ln(2)-\\ln(2)(1+e^{-w_0-w_1x_i})^{-1}}} & & & & \\boxed{\\frac{\\partial}{\\partial w_1}h_i(w) = \\frac{(y_i-1)(1+e^{-w_0-w_1x_i})^{-2}(x_ie^{-w_0-w_1x_i})}{\\ln(2)-\\ln(2)(1+e^{-w_0-w_1x_i})^{-1}}}\n",
        "\\end{matrix}"
      ]
    },
    {
      "cell_type": "code",
      "execution_count": 159,
      "id": "dgxKL0merlAq",
      "metadata": {
        "id": "dgxKL0merlAq"
      },
      "outputs": [],
      "source": [
        "def hi_partial_derivative_w0(xi, yi, w):\n",
        "    \"\"\" Partial Derivative of function hi() with respect to w0 \"\"\"\n",
        "\n",
        "    numerator = (yi - 1) * (1 + np.e**(-w[0] - w[1]*xi))**(-2) * (np.e**(-w[0] - w[1]*xi))\n",
        "    denominator = np.log(2) - np.log(2)*(1 + np.e**(-w[0] - w[1]*xi))**(-1)\n",
        "\n",
        "    return numerator / denominator\n",
        "\n",
        "def hi_partial_derivative_w1(xi, yi, w):\n",
        "    \"\"\" Partial Derivative of function hi() with respect to w1 \"\"\"\n",
        "\n",
        "    numerator = (yi - 1) * (1 + np.e**(-w[0] - w[1]*xi))**(-2) * (xi*np.e**(-w[0] - w[1]*xi))\n",
        "    denominator = np.log(2) - np.log(2)*(1 + np.e**(-w[0] - w[1]*xi))**(-1)\n",
        "\n",
        "    return numerator / denominator"
      ]
    },
    {
      "cell_type": "markdown",
      "id": "xonjiLVBs8Ri",
      "metadata": {
        "id": "xonjiLVBs8Ri"
      },
      "source": [
        "Τελικά μπορούμε να ορίσουμε δύο συνάρτησεις που υπολογίζουν τις μερικές παραγώγους της $\\nabla L_1(w)$ και την τελική συνάρτηση για τον υπολγισμό της $\\nabla L_1(w)$."
      ]
    },
    {
      "cell_type": "code",
      "execution_count": 160,
      "id": "2Qo2cRuutRXf",
      "metadata": {
        "id": "2Qo2cRuutRXf"
      },
      "outputs": [],
      "source": [
        "def L1_partial_derivative_w0(x, y, w):\n",
        "    \"\"\" Partial Derivative of function L1 with respect to w0 \"\"\"\n",
        "\n",
        "    n = len(x)\n",
        "    sum = 0.0\n",
        "    for i in range(n):\n",
        "        gi_partial = gi_partial_derivative_w0(x[i], y[i], w)\n",
        "        hi_partial = hi_partial_derivative_w0(x[i], y[i], w)\n",
        "        sum += (gi_partial + hi_partial)\n",
        "\n",
        "    return (-1/n) * sum\n",
        "\n",
        "def L1_partial_derivative_w1(x, y, w):\n",
        "    \"\"\" Partial Derivative of function L1 with respect to w1 \"\"\"\n",
        "\n",
        "    n = len(x)\n",
        "    sum = 0.0\n",
        "    for i in range(n):\n",
        "        gi_partial = gi_partial_derivative_w1(x[i], y[i], w)\n",
        "        hi_partial = hi_partial_derivative_w1(x[i], y[i], w)\n",
        "        sum += (gi_partial + hi_partial)\n",
        "\n",
        "    return (-1/n) * sum\n",
        "\n",
        "def L1_partial_derivative(x, y, w):\n",
        "    \"\"\" Partial Derivative of function L1 \"\"\"\n",
        "\n",
        "    L1_partial_w0 = L1_partial_derivative_w0(x, y, w)\n",
        "    L1_partial_w1 = L1_partial_derivative_w1(x, y, w)\n",
        "\n",
        "    return L1_partial_w0, L1_partial_w1"
      ]
    },
    {
      "cell_type": "markdown",
      "id": "54560e5d",
      "metadata": {
        "id": "54560e5d"
      },
      "source": [
        "## Υπολογισμός της παραγώγου $\\nabla f_2$"
      ]
    },
    {
      "cell_type": "markdown",
      "id": "a0849db5",
      "metadata": {
        "id": "a0849db5"
      },
      "source": [
        "Στη συνέχεια θα βρούμε τη παράγωγο $\\nabla f_2$ για την οποία ισχύει ότι\n",
        "\n",
        "$$\n",
        "    \\nabla f_2 = \\frac{\\partial f_2}{\\partial w} = \\left(\\frac{\\partial f_2}{\\partial w_0}, \\frac{\\partial f_2}{\\partial w_1}, \\frac{\\partial f_2}{\\partial w_2}, \\frac{\\partial f_2}{\\partial w_3}\\right)\n",
        "$$\n",
        "\n",
        "Έχουμε λοιπόν να υπολογίσουμε τις μερικές παραγώγους της συνάρτησης $f_2$. Για τις $\\partial f_2/\\partial w_0$ και $\\partial f_2/\\partial w_1$ έχουμε ότι\n",
        "\n",
        "$$\n",
        "    \\frac{\\partial f_2}{\\partial w_0} = \\frac{\\partial}{\\partial w_0}\\big(w_0 + w_1\\sigma(w_2+w_3x)\\big) = \\frac{\\partial}{\\partial w_0}w_0 + \\frac{\\partial}{\\partial w_0}w_1\\sigma(w_2+w_3x) \\Rightarrow \\boxed{\\frac{\\partial f_2}{\\partial w_0} = 1}\n",
        "$$\n",
        "\n",
        "και\n",
        "\n",
        "$$\n",
        "    \\frac{\\partial f_2}{\\partial w_1} = \\frac{\\partial}{\\partial w_1}\\big(w_0 + w_1\\sigma(w_2+w_3x)\\big) = \\frac{\\partial}{\\partial w_1}w_1\\sigma(w_2+w_3x) \\Rightarrow \\boxed{ \\frac{\\partial f_2}{\\partial w_1} = \\sigma(w_2 + w_3x)}\n",
        "$$\n",
        "\n",
        "Για τον υπολογισμό των $\\partial f_2/\\partial w_2$ και $\\partial f_2/\\partial w_3$ ξέρουμε από την εκφώνηση πως\n",
        "\n",
        "$$\n",
        "    \\frac{d\\sigma(x)}{dx} =\n",
        "    \\begin{cases}\n",
        "        1, &\\ x \\gt 0 \\\\\n",
        "        0, &\\ x \\leq 0 \\\\\n",
        "    \\end{cases}\n",
        "$$\n",
        "\n",
        "Επομένως για την $\\partial f_2/\\partial w_2$ έχουμε\n",
        "\n",
        "$$\n",
        "    \\frac{\\partial f_2}{\\partial w_2} = \\frac{\\partial}{\\partial w_2}\\big(w_0 + w_1\\sigma(w_2+w_3x)\\big) = w_1\\frac{\\partial}{\\partial w_2}\\sigma(w_2+w_3x)\n",
        "$$\n",
        "\n",
        "Από την παραπάνω σχέση έχουμε να υπολογίσουμε το $\\frac{\\partial}{\\partial w_2}\\sigma(w_2+w_3x)$. Αρχικά θα θέσουμε με $u=w_2+w_3x$ και θα εφαρμόσουμε τον κανόνα της αλυσίδας. Άρα θα έχουμε\n",
        "\n",
        "$$\n",
        "    \\frac{\\partial\\sigma}{\\partial w_2} = \\frac{\\partial\\sigma}{\\partial u}\\frac{\\partial u}{\\partial w_2} = \\frac{\\partial}{\\partial u} \\sigma(u)\\frac{\\partial}{\\partial w_2}(w_2+w_3x) = \\frac{\\partial}{\\partial u}\\sigma(u) =\n",
        "    \\begin{cases}\n",
        "        1, &\\ u \\gt 0 \\Rightarrow w_2 + w_3x \\gt 0\\\\\n",
        "        0, &\\ u \\leq 0 \\Rightarrow w_2 + w_3x \\leq 0\\\\\n",
        "    \\end{cases}\n",
        "$$\n",
        "\n",
        "Επομένως\n",
        "\n",
        "$$\n",
        "    \\boxed{\n",
        "        \\frac{\\partial f_2}{\\partial w_2} =\n",
        "        \\begin{cases}\n",
        "            w_1, &\\ w_2 + w_3x \\gt 0 \\\\\n",
        "            0, &\\ w_2 + w_3x \\leq 0 \\\\\n",
        "        \\end{cases}\n",
        "    }\n",
        "$$\n",
        "\n",
        "Παρομοίως υα υπολογίσουμε την $\\partial f_2/\\partial w_3$. Θα είναι\n",
        "\n",
        "$$\n",
        "    \\frac{\\partial f_2}{\\partial w_3} = \\frac{\\partial}{\\partial w_3}\\big(w_0 + w_1\\sigma(w_2+w_3x)\\big) = w_1\\frac{\\partial}{\\partial w_3}\\sigma(w_2+w_3x)\n",
        "$$\n",
        "\n",
        "Από την παραπάνω σχέση έχουμε να υπολογίσουμε το $\\frac{\\partial}{\\partial w_3}\\sigma(w_2+w_3x)$. Αρχικά θα θέσουμε με $u=w_2+w_3x$ και θα εφαρμόσουμε τον κανόνα της αλυσίδας. Άρα θα έχουμε\n",
        "\n",
        "$$\n",
        "    \\frac{\\partial\\sigma}{\\partial w_3} = \\frac{\\partial\\sigma}{\\partial u}\\frac{\\partial u}{\\partial w_3} = \\frac{\\partial}{\\partial u} \\sigma(u)\\frac{\\partial}{\\partial w_3}(w_2+w_3x) = \\frac{\\partial}{\\partial u}\\sigma(u)x =\n",
        "    \\begin{cases}\n",
        "        x, &\\ u \\gt 0 \\Rightarrow w_2 + w_3x \\gt 0\\\\\n",
        "        0, &\\ u \\leq 0 \\Rightarrow w_2 + w_3x \\leq 0\\\\\n",
        "    \\end{cases}\n",
        "$$\n",
        "\n",
        "Επομένως\n",
        "\n",
        "$$\n",
        "    \\boxed{\n",
        "        \\frac{\\partial f_2}{\\partial w_3} =\n",
        "        \\begin{cases}\n",
        "            w_1x, &\\ w_2 + w_3x \\gt 0 \\\\\n",
        "            0, &\\ w_2 + w_3x \\leq 0 \\\\\n",
        "        \\end{cases}\n",
        "    }\n",
        "$$\n",
        "\n",
        "Οπότε έχουμε ότι\n",
        "\n",
        "$$\n",
        "    \\nabla f_2 = \\left(\\frac{\\partial f_2}{\\partial w_0}, \\frac{\\partial f_2}{\\partial w_1}, \\frac{\\partial f_2}{\\partial w_2}, \\frac{\\partial f_2}{\\partial w_3}\\right) =\n",
        "    \\begin{cases}\n",
        "        \\big(1, \\sigma(w_2+w_3x), w_1, w_1x\\big), &\\ w_2 + w_3x \\gt 0 \\\\\n",
        "        \\big(1, \\sigma(w_2+w_3x), 0, 0\\big), &\\ w_2 + w_3x \\leq 0 \\\\\n",
        "    \\end{cases}\n",
        "$$"
      ]
    },
    {
      "cell_type": "markdown",
      "id": "4637cb2f",
      "metadata": {
        "id": "4637cb2f"
      },
      "source": [
        "### Ορισμός στην Python"
      ]
    },
    {
      "cell_type": "markdown",
      "id": "21aaa389",
      "metadata": {
        "id": "21aaa389"
      },
      "source": [
        "Έχοντας βρει την $\\nabla f_2$, μπορούμε να την κατασκευάσουμε σε Python"
      ]
    },
    {
      "cell_type": "code",
      "execution_count": 161,
      "id": "18151f41",
      "metadata": {
        "id": "18151f41"
      },
      "outputs": [],
      "source": [
        "def f2_partial_derivative(xi, w):\n",
        "    \"\"\" Partial Derivative of f2 \"\"\"\n",
        "\n",
        "    partial_w0 = 1\n",
        "    partial_w1 = sigma(w[2] + w[3]*xi)\n",
        "    partial_w2 = w[1]    if w[2] + w[3]*xi > 0 else 0\n",
        "    partial_w3 = w[1]*xi if w[2] + w[3]*xi > 0 else 0\n",
        "\n",
        "    return partial_w0, partial_w1, partial_w2, partial_w3"
      ]
    },
    {
      "cell_type": "markdown",
      "id": "0fe77cab-46d9-4713-8126-b7e21955a079",
      "metadata": {
        "id": "0fe77cab-46d9-4713-8126-b7e21955a079"
      },
      "source": [
        "## Υπολογισμός της παραγώγου $\\nabla L_2$"
      ]
    },
    {
      "cell_type": "markdown",
      "id": "9a306ef6-8c87-49a0-9b54-820b4b833947",
      "metadata": {
        "id": "9a306ef6-8c87-49a0-9b54-820b4b833947"
      },
      "source": [
        "Στη συνέχεια θα υπολογίσουμε την παράγωγο $\\nabla L_2$, για την οποία ισχύει ότι\n",
        "\n",
        "$$\n",
        "    \\nabla L_2 = \\frac{\\partial L_2}{\\partial w} = \\left(\\frac{\\partial L_2}{\\partial w_0}, \\frac{\\partial L_2}{\\partial w_1},\n",
        "    \\frac{\\partial L_2}{\\partial w_2}, \\frac{\\partial L_2}{\\partial w_3}\\right)\n",
        "$$"
      ]
    },
    {
      "cell_type": "markdown",
      "id": "a47a2137-e138-4c76-a281-7a8edc9a5c37",
      "metadata": {
        "id": "a47a2137-e138-4c76-a281-7a8edc9a5c37"
      },
      "source": [
        "### Εύρεση της $\\frac{\\partial L_2}{\\partial w_j}$, $\\small j\\in\\{0,1,2,3\\}$"
      ]
    },
    {
      "cell_type": "markdown",
      "id": "dff68d66-6152-42c2-81f7-467116a01633",
      "metadata": {
        "id": "dff68d66-6152-42c2-81f7-467116a01633"
      },
      "source": [
        "Γενικά για την παράγωγο $\\partial L_2/\\partial w_j,\\ j\\in\\{0,1,2,3\\}$ έχουμε\n",
        "\n",
        "$$\n",
        "    \\frac{\\partial L_2}{\\partial w_j} = \\frac{\\partial}{\\partial w_j}\\left(\\frac{1}{n}\\sum_{i=1}^{n}\\big(y_i -\n",
        "    f_2(x_i;w)\\big)^2\\right) = \\frac{1}{n}\\frac{\\partial}{\\partial w_j}\\big(\\big(y_1 - f_2(x_1;w)\\big)^2 + \\big(y_2 -\n",
        "    f_2(x_2;w)\\big)^2 + \\dots + \\big(y_n - f_2(x_n;w)\\big)^2\\big) \\Rightarrow\n",
        "$$\n",
        "$$\n",
        "    \\frac{\\partial L_2}{\\partial w_j} = \\frac{1}{n}\\left(\\frac{\\partial}{\\partial w_j}\\big(y_1 - f_2(x_1;w)\\big)^2 + \\frac{\\partial}\n",
        "    {\\partial w_j}\\big(y_2 - f_2(x_2;w)\\big)^2 + \\dots + \\frac{\\partial}{\\partial w_j}\\big(y_n - f_2(x_n;w)\\big)^2\\right) = \\frac{1}\n",
        "    {n}\\sum_{i=1}^{n}\\frac{\\partial}{\\partial w_j}\\big(y_i - f_2(x_i;w)\\big)^2 \\Rightarrow\n",
        "$$\n",
        "$$\n",
        "    \\frac{\\partial L_2}{\\partial w_j} = \\frac{1}{n}\\sum_{i=1}^{n}2\\big(y_i - f_2(x_i;w)\\big)\\frac{\\partial}{\\partial w_j}\\big(y_i -\n",
        "    f_2(x_i;w)\\big) \\Rightarrow \\boxed{\\frac{\\partial L_2}{\\partial w_j} = -\\frac{2}{n}\\sum_{i=1}^{n}\\big(y_i -\n",
        "    f_2(x_i;w)\\big)\\frac{\\partial}{\\partial w_j}f_2(x_i;w),\\ j\\in\\{0,1,2,3\\}}\n",
        "$$\n",
        "\n",
        "Με τη παραπάνω σχέση μπορούμε να προσδιορίσουμε την παράγωγο $\\nabla L_2$."
      ]
    },
    {
      "cell_type": "markdown",
      "id": "b452efdb-a375-4c2e-8461-7e45e22ff02d",
      "metadata": {
        "id": "b452efdb-a375-4c2e-8461-7e45e22ff02d"
      },
      "source": [
        "### Ορισμός στην Python"
      ]
    },
    {
      "cell_type": "markdown",
      "id": "7ae511ce-d7d5-425b-a204-67d54d24278f",
      "metadata": {
        "id": "7ae511ce-d7d5-425b-a204-67d54d24278f"
      },
      "source": [
        "Έχοντας βρει την παράγωγο $\\nabla L_2$ μπορούμε να την ορίσουμε σε Python."
      ]
    },
    {
      "cell_type": "code",
      "execution_count": 162,
      "id": "f6089f97-e3ce-4d1c-8537-a73eec04187d",
      "metadata": {
        "id": "f6089f97-e3ce-4d1c-8537-a73eec04187d"
      },
      "outputs": [],
      "source": [
        "def L2_partial_derivative_wj(x, y, w, j):\n",
        "    \"\"\" Partial Derivative of function L2 with respect to w0 \"\"\"\n",
        "\n",
        "    n = len(x)\n",
        "    sum = 0.0\n",
        "    for i in range(n):\n",
        "        sum += ((y[i] - f2(x[i], w)) * f2_partial_derivative(x[i], w)[j])\n",
        "\n",
        "    return (-2/n) * sum\n",
        "\n",
        "def L2_partial_derivative(x, y, w):\n",
        "    \"\"\" Partial Derivative of function L2 \"\"\"\n",
        "\n",
        "    L2_partial_w0 = L2_partial_derivative_wj(x, y, w, 0)\n",
        "    L2_partial_w1 = L2_partial_derivative_wj(x, y, w, 1)\n",
        "    L2_partial_w2 = L2_partial_derivative_wj(x, y, w, 2)\n",
        "    L2_partial_w3 = L2_partial_derivative_wj(x, y, w, 3)\n",
        "\n",
        "    return L2_partial_w0, L2_partial_w1, L2_partial_w2, L2_partial_w3\n"
      ]
    },
    {
      "cell_type": "markdown",
      "id": "_OnrPIOc33W8",
      "metadata": {
        "id": "_OnrPIOc33W8"
      },
      "source": [
        "## Κατασκευή του αλγορίθμου Gradient Descent σε Python"
      ]
    },
    {
      "cell_type": "markdown",
      "id": "qs8k8uoa4A9l",
      "metadata": {
        "id": "qs8k8uoa4A9l"
      },
      "source": [
        "Έχοντας βρει τις παραγώγους των συναρτήσεων κόστους $L_1(w)$ και $L_2(w)$, μπορούμε να υλοποιήσουμε τον αλγόριθμο Gradient Descent στην Python μία φορά για το πρώτο σύνολο δεδομένων και άλλη μια για το δεύτερο σύνολο δεδομένων."
      ]
    },
    {
      "cell_type": "code",
      "execution_count": 163,
      "id": "ZL8NyMYC4UM-",
      "metadata": {
        "id": "ZL8NyMYC4UM-"
      },
      "outputs": [],
      "source": [
        "def Gradient_Descent(x, y, weights, learning_rate, iterations, cost_function, cost_gradient):\n",
        "    \"\"\" Gradient Descent Algorithm \"\"\"\n",
        "\n",
        "    n = len(y)\n",
        "    costs = []\n",
        "\n",
        "    # Find the steepest descent 'iterations' times\n",
        "    for _ in range(iterations):\n",
        "        steepest_ascend = cost_gradient(x, y, weights)\n",
        "\n",
        "        for i in range(len(weights)):\n",
        "            weights[i] -= learning_rate * steepest_ascend[i]\n",
        "\n",
        "        costs.append(cost_function(x, y, weights))\n",
        "\n",
        "    return weights, costs"
      ]
    },
    {
      "cell_type": "markdown",
      "id": "dAEkZ5doU4Pg",
      "metadata": {
        "id": "dAEkZ5doU4Pg"
      },
      "source": [
        "## Εκτέλεση του αλγορίθμου για το πρώτο σύνολο δεδομένων"
      ]
    },
    {
      "cell_type": "markdown",
      "id": "w_q9lXTuVGyM",
      "metadata": {
        "id": "w_q9lXTuVGyM"
      },
      "source": [
        "### Αρχικοποίηση δεδομένων και παραμέτρων"
      ]
    },
    {
      "cell_type": "markdown",
      "id": "3pUsfiiL8Mrh",
      "metadata": {
        "id": "3pUsfiiL8Mrh"
      },
      "source": [
        "Ας δοκιμάσουμε τον αλγόριθμο με το πρώτο σύνολο δεδομένων. Αρχικά θα αρχικοποιήσουμε τα δεδομένα μας"
      ]
    },
    {
      "cell_type": "code",
      "execution_count": 164,
      "id": "FXSOTC2-8RoZ",
      "metadata": {
        "id": "FXSOTC2-8RoZ"
      },
      "outputs": [],
      "source": [
        "data1 = np.array([[ 10.63415642, -10.31804897, -3.91323692, 13.47455445, 12.00245098, 7.01459213, -11.5083141, 7.83875,\n",
        "                   -11.21021617, 6.95282804,  7.79101979,  13.94835343, 3.01243432, 11.67679791, 13.41197807, 14.61995534,\n",
        "                   -8.70743264, -14.10312612, -11.68244994, 14.75202699, 9.25316629, -4.82661632, -6.99915042, 6.49562369,\n",
        "                   -11.46126563, -9.38897405, -3.68953244, -5.95603391, -10.80285714, -11.78004227 ],\n",
        "\n",
        "                  [ 1.0, 0.0, 0.0, 1.0, 1.0, 1.0, 0.0, 1.0, 0.0, 1.0, 1.0, 1.0, 1.0, 1.0, 1.0, 1.0, 0.0, 0.0, 0.0, 1.0, 1.0,\n",
        "                    0.0, 0.0, 1.0, 0.0, 0.0, 0.0, 0.0, 0.0, 0.0 ]])"
      ]
    },
    {
      "cell_type": "markdown",
      "id": "5cA2GPetSJGJ",
      "metadata": {
        "id": "5cA2GPetSJGJ"
      },
      "source": [
        "Παρακάτω ορίζουμε μία συνάρτηση η οποία ταξινομεί το σύνολο δεδομένων, προκειμένου να μην υπάρξουν προβλήματα στην οπτικοποίηση των δεδομένων."
      ]
    },
    {
      "cell_type": "code",
      "execution_count": 165,
      "id": "lF0KF9y5gyED",
      "metadata": {
        "id": "lF0KF9y5gyED"
      },
      "outputs": [],
      "source": [
        "def fix_data_range(x, y):\n",
        "    \"\"\" Sorts the data samples according to x values \"\"\"\n",
        "\n",
        "    data = zip(x, y)\n",
        "    sorted_data = sorted(data, key=lambda pair: pair[0])\n",
        "\n",
        "    sorted_x = [pair[0] for pair in sorted_data]\n",
        "    sorted_y = [pair[1] for pair in sorted_data]\n",
        "\n",
        "    return sorted_x, sorted_y"
      ]
    },
    {
      "cell_type": "markdown",
      "id": "BkBJksN1SiQp",
      "metadata": {
        "id": "BkBJksN1SiQp"
      },
      "source": [
        "Έχοντας ορίσει το σύνολο δεδομένων μας, αρχικοποιούμε τις παραμέτρους $w_0=0.0$ και $w_1=1.0$, το ποσοστό εκμάθησης σε $10^{-3}$ και τον αριθμό επαναλήψεων σε $150$ όπως αναφέρει η εκφώνηση, και τελικά εκτελούμε τον αλγόριθμο."
      ]
    },
    {
      "cell_type": "code",
      "execution_count": 166,
      "id": "Umts2_uE8uhJ",
      "metadata": {
        "id": "Umts2_uE8uhJ"
      },
      "outputs": [],
      "source": [
        "x = data1[0]\n",
        "y = data1[1]\n",
        "\n",
        "# Initialize the parameters\n",
        "weights = [0.0, 1.0]\n",
        "learning_rate = 10**(-3)\n",
        "iterations = 150"
      ]
    },
    {
      "cell_type": "markdown",
      "id": "hiqXIi4xVQyF",
      "metadata": {
        "id": "hiqXIi4xVQyF"
      },
      "source": [
        "### Εκτέλεση αλγορίθμου"
      ]
    },
    {
      "cell_type": "code",
      "execution_count": 167,
      "id": "kD5UKjRCVVVU",
      "metadata": {
        "id": "kD5UKjRCVVVU"
      },
      "outputs": [],
      "source": [
        "# Execute the Gradient Descent Algorithm\n",
        "weights, costs = Gradient_Descent(x, y, weights, learning_rate, iterations, L1, L1_partial_derivative)"
      ]
    },
    {
      "cell_type": "markdown",
      "id": "J82UHPCdVsSg",
      "metadata": {
        "id": "J82UHPCdVsSg"
      },
      "source": [
        "### Οπτικοποίηση αποτελεσμάτων"
      ]
    },
    {
      "cell_type": "markdown",
      "id": "kSRRvf3tVyMQ",
      "metadata": {
        "id": "kSRRvf3tVyMQ"
      },
      "source": [
        "Έχοντας εκτελέσει τον αλγόριθμο και έχοντας λάβει κάποια αποτελέσματα, θα τα οπτικοποιήσουμε χρησιμοποιώντας τη βιβλιοθήκη Matplotlib της Python."
      ]
    },
    {
      "cell_type": "code",
      "execution_count": 168,
      "id": "jsBaMU9G9EUp",
      "metadata": {
        "colab": {
          "base_uri": "https://localhost:8080/",
          "height": 482
        },
        "id": "jsBaMU9G9EUp",
        "outputId": "7c336643-ffd7-466a-8b4b-2c9e8db43957"
      },
      "outputs": [
        {
          "output_type": "display_data",
          "data": {
            "text/plain": [
              "<Figure size 1000x470 with 2 Axes>"
            ],
            "image/png": "[encoded data removed]"
          },
          "metadata": {}
        }
      ],
      "source": [
        "x, y = fix_data_range(x, y) # Fix the data samples range to avoid graphing issues\n",
        "\n",
        "# Data for the first graph\n",
        "cost = tuple(costs[:iterations])\n",
        "num_of_iterations = tuple(range(iterations))\n",
        "\n",
        "# Data for the second graph\n",
        "y_predicted = tuple(f1(xi, weights) for xi in x)\n",
        "\n",
        "fig, (ax1, ax2) = plt.subplots(1, 2, figsize=(10, 4.7))\n",
        "fig.suptitle(\"Οπτικοποίηση αποτελεσμάτων για το πρώτο σύνολο δεδομένων\")\n",
        "\n",
        "# First Graph (Graph Plot)\n",
        "ax1.plot(num_of_iterations, cost, color=\"#42BC4E\")\n",
        "ax1.grid()\n",
        "ax1.set_title('Μεταβολή κόστους ανά επανάληψη')\n",
        "ax1.set_xlabel('Επαναλήψεις')\n",
        "ax1.set_ylabel('Κόστος')\n",
        "\n",
        "# Second Graph (Scatter Plot)\n",
        "ax2.scatter(x, y, color='#9CC8FF')\n",
        "ax2.plot(x, y_predicted, color=\"#187DFF\")\n",
        "ax2.set_title('Εκτίμηση δεδομένων')\n",
        "ax2.set_xlabel('Άξονας X')\n",
        "ax2.set_ylabel('Άξονας Y')\n",
        "\n",
        "plt.tight_layout()\n",
        "plt.show()"
      ]
    },
    {
      "cell_type": "markdown",
      "id": "AZRL4jPvc3vZ",
      "metadata": {
        "id": "AZRL4jPvc3vZ"
      },
      "source": [
        "Από το πρώτο διάγραμμα παρατηρούμε πως σε $150$ επαναλήψεις του αλγορίθμου Gradient Descent, το κόστος μειώθηκε από $0.00522$ σε $0.00517$ και ο αλγόριθμος σύμφωνα με το δεύτερο διάγραμμα φαίνεται να βρήκε έναν συνδιασμό παραμέτρων $w_0$ και $w_1$ οι οποίοι προσέγγιζουν αρκετά καλά τα δεδομένα"
      ]
    },
    {
      "cell_type": "markdown",
      "id": "663a5e95-1e00-4eee-8673-17e39acb9408",
      "metadata": {
        "id": "663a5e95-1e00-4eee-8673-17e39acb9408"
      },
      "source": [
        "## Εκτέλεση του αλγορίθμου για το δεύτερο σύνολο δεδομένων"
      ]
    },
    {
      "cell_type": "markdown",
      "id": "2cd0623c-4b8c-414e-b87a-6bfe21870261",
      "metadata": {
        "id": "2cd0623c-4b8c-414e-b87a-6bfe21870261"
      },
      "source": [
        "### Αρχικοποίηση δεδομένων και παραμέτρων"
      ]
    },
    {
      "cell_type": "markdown",
      "id": "52657593-2021-4c57-a361-fadebdd8d43c",
      "metadata": {
        "id": "52657593-2021-4c57-a361-fadebdd8d43c"
      },
      "source": [
        "Ας δοκιμάσουμε τον αλγόριθμο με το πρώτο σύνολο δεδομένων. Αρχικά θα αρχικοποιήσουμε τα δεδομένα μας"
      ]
    },
    {
      "cell_type": "code",
      "execution_count": 169,
      "id": "9c6ed914-0e7d-4b73-82cf-6325d5241fc5",
      "metadata": {
        "id": "9c6ed914-0e7d-4b73-82cf-6325d5241fc5"
      },
      "outputs": [],
      "source": [
        "data2 = np.array([[-6.63823962e-01, 1.76259595e+00, -3.99908500e+00, -1.58133942e+00, -2.82595287e+00, -3.26129124e+00,\n",
        "                   -2.50991831e+00, -1.23551418e+00, -8.25860206e-01, 3.10533872e-01, -6.46443885e-01,  1.48175600e+00,\n",
        "                   -2.36438200e+00,  3.02493949e+00, -3.78089925e+00, 1.36374008e+00, -6.61561581e-01,  4.69518628e-01,\n",
        "                   -2.87690449e+00, -2.41518809e+00,  2.40595655e+00, 3.74609261e+00, -1.49260657e+00,  1.53858093e+00,\n",
        "                   3.01111322e+00,  3.15685331e+00, -3.31964631e+00, -3.68756173e+00, -2.64135664e+00,  3.02514003e+00],\n",
        "\n",
        "                  [-7.76859909e-02,  6.84885863e+00,  2.11068734e-02, 2.91407607e-01, -5.50309589e-01,  5.72361855e-01,\n",
        "                   4.50795360e-01,  2.51247169e-01,  4.50427975e-01, 2.58973769e+00, -7.76767080e-04,  5.97738329e+00,\n",
        "                   -1.33944040e-01,  1.13399962e+01, -3.45830376e-01, 5.89284348e+00, -3.28271093e-01,  2.98595306e+00,\n",
        "                   -3.35623065e-01, -6.33229946e-03,  8.65921447e+00, 1.33554857e+01,  8.29901089e-01,  6.98676486e+00,\n",
        "                   1.09374219e+01,  1.10267454e+01, -3.73579147e-01, 8.46227301e-01,  2.54038774e-02,  1.07569223e+01]])"
      ]
    },
    {
      "cell_type": "markdown",
      "id": "18fee9ef-27f0-445c-bf84-6cd98e4914dc",
      "metadata": {
        "id": "18fee9ef-27f0-445c-bf84-6cd98e4914dc"
      },
      "source": [
        "Έχοντας ορίσει το σύνολο δεδομένων μας, αρχικοποιούμε τις παραμέτρους $w_0=0.5$, $w_1=1.0$, $w_2=2.2$ και $w_3=3.4$ το ποσοστό εκμάθησης σε $10^{-3}$ και τον αριθμό επαναλήψεων σε $150$ όπως αναφέρει η εκφώνηση, και τελικά εκτελούμε τον αλγόριθμο."
      ]
    },
    {
      "cell_type": "code",
      "execution_count": 170,
      "id": "dbad51ac-7a7e-4b5c-9dde-d1a6210c991f",
      "metadata": {
        "id": "dbad51ac-7a7e-4b5c-9dde-d1a6210c991f"
      },
      "outputs": [],
      "source": [
        "x: tuple[float] = data2[0]\n",
        "y: tuple[float] = data2[1]\n",
        "\n",
        "# Initialize the parameters\n",
        "weights = [0.5, 1.0, 2.2, 3.4]\n",
        "learning_rate = 10**(-3)\n",
        "iterations = 150"
      ]
    },
    {
      "cell_type": "markdown",
      "id": "58f1af71-fc46-400a-a2f1-877e7f02a0e5",
      "metadata": {
        "id": "58f1af71-fc46-400a-a2f1-877e7f02a0e5"
      },
      "source": [
        "### Εκτέλεση αλγορίθμου"
      ]
    },
    {
      "cell_type": "code",
      "execution_count": 171,
      "id": "76fbeb11-68cc-4a95-9174-ff8821835ea9",
      "metadata": {
        "id": "76fbeb11-68cc-4a95-9174-ff8821835ea9"
      },
      "outputs": [],
      "source": [
        "# Execute the Gradient Descent Algorithm\n",
        "weights, costs = Gradient_Descent(x, y, weights, learning_rate, iterations, L2, L2_partial_derivative)"
      ]
    },
    {
      "cell_type": "markdown",
      "id": "5210469c-b605-4873-8b4b-4318164bfb13",
      "metadata": {
        "id": "5210469c-b605-4873-8b4b-4318164bfb13"
      },
      "source": [
        "### Οπτικοποίηση αποτελεσμάτων"
      ]
    },
    {
      "cell_type": "markdown",
      "id": "63cc2768-4455-4785-886d-76bb33857241",
      "metadata": {
        "id": "63cc2768-4455-4785-886d-76bb33857241"
      },
      "source": [
        "Και πάλι θα οπτικοποιήσουμε τα αποτελέσματά μας χρησιμοποιώντας τη βιβλιοθήκη Matplotlib της Python."
      ]
    },
    {
      "cell_type": "code",
      "execution_count": 172,
      "id": "bf6f2936-1d32-4c20-a03a-64cbc5c3c318",
      "metadata": {
        "id": "bf6f2936-1d32-4c20-a03a-64cbc5c3c318",
        "outputId": "dbe87653-7fd8-484e-a01c-ff23972a6506",
        "colab": {
          "base_uri": "https://localhost:8080/",
          "height": 482
        }
      },
      "outputs": [
        {
          "output_type": "display_data",
          "data": {
            "text/plain": [
              "<Figure size 1000x470 with 2 Axes>"
            ],
            "image/png": "[encoded data removed]"
          },
          "metadata": {}
        }
      ],
      "source": [
        "x, y = fix_data_range(x, y) # Fix the data samples range to avoid graphing issues\n",
        "\n",
        "# Data for the first graph\n",
        "cost = tuple(costs[:iterations])\n",
        "num_of_iterations = tuple(range(iterations))\n",
        "\n",
        "# Data for the second graph\n",
        "y_predicted = tuple(f2(xi, weights) for xi in x)\n",
        "\n",
        "fig, (ax1, ax2) = plt.subplots(1, 2, figsize=(10, 4.7))\n",
        "fig.suptitle(\"Οπτικοποίηση αποτελεσμάτων για το δεύτερο σύνολο δεδομένων\")\n",
        "\n",
        "# First Graph (Graph Plot)\n",
        "ax1.plot(num_of_iterations, cost, color=\"#FFA022\")\n",
        "ax1.grid()\n",
        "ax1.set_title('Μεταβολή κόστους ανά επανάληψη')\n",
        "ax1.set_xlabel('Επαναλήψεις')\n",
        "ax1.set_ylabel('Κόστος')\n",
        "\n",
        "# Second Graph (Scatter Plot)\n",
        "ax2.scatter(x, y, color='#FF9F9F')\n",
        "ax2.plot(x, y_predicted, color=\"#FF4D4D\")\n",
        "ax2.set_title('Εκτίμηση δεδομένων')\n",
        "ax2.set_xlabel('Άξονας X')\n",
        "ax2.set_ylabel('Άξονας Y')\n",
        "\n",
        "plt.tight_layout()\n",
        "plt.show()"
      ]
    }
  ],
  "metadata": {
    "colab": {
      "provenance": [],
      "toc_visible": true,
      "include_colab_link": true
    },
    "kernelspec": {
      "display_name": "Python 3 (ipykernel)",
      "language": "python",
      "name": "python3"
    },
    "language_info": {
      "codemirror_mode": {
        "name": "ipython",
        "version": 3
      },
      "file_extension": ".py",
      "mimetype": "text/x-python",
      "name": "python",
      "nbconvert_exporter": "python",
      "pygments_lexer": "ipython3",
      "version": "3.10.8"
    }
  },
  "nbformat": 4,
  "nbformat_minor": 5
}